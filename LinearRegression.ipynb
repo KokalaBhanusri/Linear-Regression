{
 "cells": [
  {
   "cell_type": "code",
   "execution_count": 6,
   "metadata": {},
   "outputs": [
    {
     "name": "stdout",
     "output_type": "stream",
     "text": [
      "       YearsExperience         Salary\n",
      "count        30.000000      30.000000\n",
      "mean          5.313333   76003.000000\n",
      "std           2.837888   27414.429785\n",
      "min           1.100000   37731.000000\n",
      "25%           3.200000   56720.750000\n",
      "50%           4.700000   65237.000000\n",
      "75%           7.700000  100544.750000\n",
      "max          10.500000  122391.000000\n"
     ]
    }
   ],
   "source": [
    "import numpy as np\n",
    "import pandas as pd\n",
    "import matplotlib.pyplot as plt\n",
    "import seaborn as sns\n",
    "%matplotlib inline\n",
    "\n",
    "dataset = pd.read_csv('C:\\Users\\Sreekar\\Desktop\\Linear_Regreesion_Salary_Data.csv')\n",
    "print(dataset.describe())"
   ]
  },
  {
   "cell_type": "code",
   "execution_count": 7,
   "metadata": {},
   "outputs": [],
   "source": [
    "x = dataset['Salary'].values\n",
    "y = dataset['YearsExperience'].values"
   ]
  },
  {
   "cell_type": "code",
   "execution_count": 10,
   "metadata": {},
   "outputs": [
    {
     "name": "stdout",
     "output_type": "stream",
     "text": [
      "(0.00010126565922605277, -2.3831605648243555)\n"
     ]
    }
   ],
   "source": [
    "# Finding mean\n",
    "mean_x = np.mean(x)\n",
    "mean_y = np.mean(y)\n",
    "#print(mean_x,mean_y)\n",
    "\n",
    "n = len(x)\n",
    "\n",
    "# Finding m(slope)\n",
    "numer = 0\n",
    "denom = 0\n",
    "for i in range(n):\n",
    "    numer += (x[i] - mean_x) * (y[i]- mean_y)\n",
    "    denom += (x[i] - mean_x) ** 2 \n",
    "m = numer/denom\n",
    "c = mean_y - (m * mean_x)\n",
    "\n",
    "print(m,c)"
   ]
  },
  {
   "cell_type": "code",
   "execution_count": 19,
   "metadata": {},
   "outputs": [
    {
     "name": "stdout",
     "output_type": "stream",
     "text": [
      "0.956956664143508\n"
     ]
    }
   ],
   "source": [
    "# y predict\n",
    "\n",
    "nm = 0\n",
    "dm = 0\n",
    "\n",
    "for i in range(n):\n",
    "    y_pred = c + (m * x[i])\n",
    "    #print(y_pred)\n",
    "    nm += (y_pred - mean_y) ** 2\n",
    "    dm += (y[i] - mean_y) ** 2\n",
    "r2 = (nm/dm)\n",
    "print(r2)\n",
    "    "
   ]
  },
  {
   "cell_type": "code",
   "execution_count": null,
   "metadata": {},
   "outputs": [],
   "source": []
  }
 ],
 "metadata": {
  "kernelspec": {
   "display_name": "Python 2",
   "language": "python",
   "name": "python2"
  },
  "language_info": {
   "codemirror_mode": {
    "name": "ipython",
    "version": 2
   },
   "file_extension": ".py",
   "mimetype": "text/x-python",
   "name": "python",
   "nbconvert_exporter": "python",
   "pygments_lexer": "ipython2",
   "version": "2.7.15"
  }
 },
 "nbformat": 4,
 "nbformat_minor": 2
}
